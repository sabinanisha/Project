{
  "nbformat": 4,
  "nbformat_minor": 0,
  "metadata": {
    "colab": {
      "provenance": [],
      "mount_file_id": "1n432Io_PYqdcudu_c27djIsJqW1fnfON",
      "authorship_tag": "ABX9TyPrEj8wQgfcGLTOYiz7Y/p3",
      "include_colab_link": true
    },
    "kernelspec": {
      "name": "python3",
      "display_name": "Python 3"
    },
    "language_info": {
      "name": "python"
    }
  },
  "cells": [
    {
      "cell_type": "markdown",
      "metadata": {
        "id": "view-in-github",
        "colab_type": "text"
      },
      "source": [
        "<a href=\"https://colab.research.google.com/github/sabinanisha/Project/blob/main/Task_Manager_with_Priority_Tracking.ipynb\" target=\"_parent\"><img src=\"https://colab.research.google.com/assets/colab-badge.svg\" alt=\"Open In Colab\"/></a>"
      ]
    },
    {
      "cell_type": "code",
      "execution_count": 5,
      "metadata": {
        "id": "Y_OINkRryR3E"
      },
      "outputs": [],
      "source": [
        "import csv\n",
        "from datetime import datetime\n",
        "def read_tasks():\n",
        "    tasks = []\n",
        "    with open(\"/Task_ Management.csv\", mode='r') as file:\n",
        "        reader = csv.reader(file)\n",
        "        for row in reader:\n",
        "            tasks.append(row)\n",
        "    return tasks\n",
        "def add_task():\n",
        "    title = input(\"Enter task title: \")\n",
        "    description = input(\"Enter task description: \")\n",
        "    priority = input(\"Enter priority level (High, Medium, Low): \")\n",
        "    deadline = input(\"Enter deadline (YYYY-MM-DD) or leave blank: \")\n",
        "    if not deadline:\n",
        "        deadline = \"None\"\n",
        "    task = [title, description, priority, deadline, 'Pending']\n",
        "    with open(\"/Task_ Management.csv\", mode='a') as file:\n",
        "        writer = csv.writer(file)\n",
        "        writer.writerow(task)\n",
        "    print(\"Task added successfully.\")\n",
        "def update_status():\n",
        "    tasks = read_tasks()\n",
        "    title = input(\"Enter task title to update status: \")\n",
        "    for task in tasks:\n",
        "        if task[0] == title:\n",
        "            print(f\"Current status: {task[4]}\")\n",
        "            new_status = input(\"Enter new status (Pending, In Progress, Completed): \")\n",
        "            task[4] = new_status\n",
        "            break\n",
        "    with open(\"/Task_ Management.csv\", mode='w', newline='') as file:\n",
        "        writer = csv.writer(file)\n",
        "        writer.writerows(tasks)\n",
        "    print(\"Task status updated successfully.\")\n",
        "def main_menu():\n",
        "    while True:\n",
        "        print(\"\\n--- Task Manager ---\")\n",
        "        print(\"1. Add Task\")\n",
        "        print(\"2. Update Task Status\")\n",
        "        print(\"3. View Tasks\")\n",
        "        print(\"4. Exit\")\n",
        "        choice = input(\"Select an option: \")\n",
        "        if choice == '1':\n",
        "            add_task()\n",
        "        elif choice == '2':\n",
        "            update_status()\n",
        "        elif choice == '3':\n",
        "            tasks = read_tasks()\n",
        "            for task in tasks:\n",
        "                print(f\"Title: {task[0]}, Status: {task[4]}, Deadline: {task[3]}\")\n",
        "        elif choice == '4':\n",
        "            break\n",
        "        else:\n",
        "            print(\"Invalid choice. Please try again.\")\n",
        "\n"
      ]
    },
    {
      "cell_type": "code",
      "source": [
        "if __name__ == \"__main__\":\n",
        "    main_menu()"
      ],
      "metadata": {
        "colab": {
          "base_uri": "https://localhost:8080/"
        },
        "id": "7VMPAIYkEbXR",
        "outputId": "8fb97833-eb3b-44e0-882d-9cc04c961e18"
      },
      "execution_count": 7,
      "outputs": [
        {
          "name": "stdout",
          "output_type": "stream",
          "text": [
            "\n",
            "--- Task Manager ---\n",
            "1. Add Task\n",
            "2. Update Task Status\n",
            "3. View Tasks\n",
            "4. Exit\n",
            "Select an option: 1\n",
            "Enter task title: Submit Report\n",
            "Enter task description: Complete and Submit the Report\n",
            "Enter priority level (High, Medium, Low): High\n",
            "Enter deadline (YYYY-MM-DD) or leave blank: 2025-02-01\n",
            "Task added successfully.\n",
            "\n",
            "--- Task Manager ---\n",
            "1. Add Task\n",
            "2. Update Task Status\n",
            "3. View Tasks\n",
            "4. Exit\n",
            "Select an option: 2\n",
            "Enter task title to update status: Submit Report\n",
            "Current status: Pending\n",
            "Enter new status (Pending, In Progress, Completed): Completed\n",
            "Task status updated successfully.\n",
            "\n",
            "--- Task Manager ---\n",
            "1. Add Task\n",
            "2. Update Task Status\n",
            "3. View Tasks\n",
            "4. Exit\n",
            "Select an option: 3\n",
            "Title: Submit Report, Status: Completed, Deadline: 2025-02-01\n",
            "\n",
            "--- Task Manager ---\n",
            "1. Add Task\n",
            "2. Update Task Status\n",
            "3. View Tasks\n",
            "4. Exit\n",
            "Select an option: 4\n"
          ]
        }
      ]
    }
  ]
}